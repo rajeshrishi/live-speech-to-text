{
 "cells": [
  {
   "cell_type": "markdown",
   "metadata": {},
   "source": [
    "<center><h1>LIVE SPEECH TO TEXT CONVERSION</h1></center>"
   ]
  },
  {
   "cell_type": "markdown",
   "metadata": {},
   "source": [
    "                                %%%%%%%%%%%%%%%%%%%%%%%%%%%%%%%%%%%%%%%%%%%%%%%%%%%%%%%%%\n",
    "                                %%%%%                                               %%%%%\n",
    "                                %%%%%                 RAJESH RISHI                  %%%%%\n",
    "                                %%%%%                                               %%%%%\n",
    "                                %%%%%         Programmed By: RAJESH RISHI           %%%%%\n",
    "                                %%%%%         ASSAM DON BOSCO UNIVERSITY            %%%%%\n",
    "                                %%%%%            SCHOOL OF TECHNOLOGY               %%%%%\n",
    "                                %%%%%               GUWAHATI,ASSAM                  %%%%%\n",
    "                                %%%%%                                               %%%%%\n",
    "                                %%%%%        Email: rajeshrishi26@gmail.com         %%%%%\n",
    "                                %%%%%                                               %%%%%\n",
    "                                %%%%%%%%%%%%%%%%%%%%%%%%%%%%%%%%%%%%%%%%%%%%%%%%%%%%%%%%%"
   ]
  },
  {
   "attachments": {},
   "cell_type": "markdown",
   "metadata": {},
   "source": [
    "# Project Overview\n",
    "Here we can ask the user for a speech to convert to text.\n",
    "\n",
    "<img src=\"https://raw.githubusercontent.com/rajeshrishi/live-speech-to-text/master/download.jpg\"  layout=\"centre\">"
   ]
  },
  {
   "cell_type": "markdown",
   "metadata": {},
   "source": [
    "We can use pip to install this-\n",
    "\n",
    "! pip install SpeechRecognition"
   ]
  },
  {
   "cell_type": "code",
   "execution_count": 1,
   "metadata": {},
   "outputs": [
    {
     "name": "stdout",
     "output_type": "stream",
     "text": [
      "Requirement already satisfied: SpeechRecognition in c:\\users\\rajesh rishi\\anaconda3\\lib\\site-packages (3.8.1)\n"
     ]
    }
   ],
   "source": [
    "! pip install SpeechRecognition"
   ]
  },
  {
   "cell_type": "code",
   "execution_count": 2,
   "metadata": {},
   "outputs": [],
   "source": [
    "# Importing the required module for speech to text conversion \n",
    "import speech_recognition as sr"
   ]
  },
  {
   "cell_type": "code",
   "execution_count": 3,
   "metadata": {},
   "outputs": [
    {
     "data": {
      "text/plain": [
       "'3.8.1'"
      ]
     },
     "execution_count": 3,
     "metadata": {},
     "output_type": "execute_result"
    }
   ],
   "source": [
    "sr.__version__"
   ]
  },
  {
   "cell_type": "markdown",
   "metadata": {},
   "source": [
    "### Reading a Live Speech in Python"
   ]
  },
  {
   "cell_type": "code",
   "execution_count": 4,
   "metadata": {},
   "outputs": [],
   "source": [
    "#The Recognizer class\n",
    "#First, we make an instance of the Recognizer class.\n",
    "r=sr.Recognizer()"
   ]
  },
  {
   "cell_type": "markdown",
   "metadata": {},
   "source": [
    "With Recognizer, we have a method for each API-\n",
    "\n",
    "1. recognize_bing()- Microsoft Bing Speech\n",
    "2. recognize_google()- Google Web Speech API\n",
    "3. recognize_google_cloud()- Google Cloud Speech\n",
    "4. recognize_houndify()- Houndify\n",
    "5. recognize_ibm()- IBM Speech to Text\n",
    "6. recognize_sphinx- CMU Sphinx\n",
    "7. recognize_wit()- Wit.ai\n",
    "8. Exempting recognize_sphinx(), we need an Internet connection for anything else we’re working with."
   ]
  },
  {
   "cell_type": "markdown",
   "metadata": {},
   "source": [
    "### Capturing data with Microphone() & Recognizing Speech in the Audio"
   ]
  },
  {
   "cell_type": "code",
   "execution_count": 5,
   "metadata": {},
   "outputs": [
    {
     "name": "stdout",
     "output_type": "stream",
     "text": [
      "Speak Anything :\n",
      "You said : wish you know how to handle not only how to handle factor how to handle the failures in your in the management environment at Wharton it I want to young people to understand how to manage the failure because any task you do your to come across problem problem should not become the captain of the individual or a project chief\n"
     ]
    }
   ],
   "source": [
    "# Capturing data with Microphone() \n",
    "with sr.Microphone() as source:\n",
    "    print(\"Speak Anything :\")\n",
    "    audio = r.listen(source)\n",
    "    \n",
    "# Recognizing Speech in the Audio\n",
    "\n",
    "    try:\n",
    "        \n",
    "        # Finally, we can call recognize_google() to perform the transcription.\n",
    "        text = r.recognize_google(audio)\n",
    "        \n",
    "        \n",
    "        # Printing the transcription in default format.\n",
    "        print(\"You said : {}\".format(text))    \n",
    " \n",
    "    except:\n",
    "        \n",
    "        # If recognize_google() can't recognize the audio\n",
    "        print(\"Sorry could not recognize what you said\")"
   ]
  },
  {
   "cell_type": "markdown",
   "metadata": {},
   "source": [
    "### Well, We can recognize audio of a different language using the language parameter-"
   ]
  },
  {
   "cell_type": "markdown",
   "metadata": {},
   "source": [
    "#### Recognizing in Hindi"
   ]
  },
  {
   "cell_type": "code",
   "execution_count": 6,
   "metadata": {},
   "outputs": [
    {
     "name": "stdout",
     "output_type": "stream",
     "text": [
      "Speak Anything in Hindi:\n",
      "Sorry could not recognize what you said\n"
     ]
    }
   ],
   "source": [
    "# Capturing data with Microphone() \n",
    "with sr.Microphone() as source:\n",
    "    print(\"Speak Anything in Hindi:\")\n",
    "    audio = r.listen(source)\n",
    "    \n",
    "# Recognizing Speech in the Audio\n",
    "\n",
    "    try:\n",
    "        \n",
    "        # Finally, we can call recognize_google() to perform the transcription.\n",
    "        \n",
    "        # Recognizing Audio in Hindi\n",
    "        text_in_hindi = r.recognize_google(audio, language='hi-IN')\n",
    "                \n",
    "        # Printing the transcription in hindi.\n",
    "        print(\"You said in Hindi : {}\".format(text_in_hindi))\n",
    "    \n",
    "    except:\n",
    "        \n",
    "        # If recognize_google() can't recognize the audio\n",
    "        print(\"Sorry could not recognize what you said\")"
   ]
  },
  {
   "cell_type": "markdown",
   "metadata": {},
   "source": [
    "#### Recognizing in Romanian"
   ]
  },
  {
   "cell_type": "code",
   "execution_count": 8,
   "metadata": {},
   "outputs": [
    {
     "name": "stdout",
     "output_type": "stream",
     "text": [
      "Speak Anything in Romanian:\n",
      "You said in Romanian : Buna dimineata\n"
     ]
    }
   ],
   "source": [
    "# Capturing data with Microphone() \n",
    "with sr.Microphone() as source:\n",
    "    print(\"Speak Anything in Romanian:\")\n",
    "    audio = r.listen(source)\n",
    "    \n",
    "# Recognizing Speech in the Audio\n",
    "\n",
    "    try:\n",
    "        \n",
    "        # Finally, we can call recognize_google() to perform the transcription.\n",
    "        \n",
    "        # Recognizing Audio in Romanian\n",
    "        text_in_romanian = r.recognize_google(audio, language='ro-RO')\n",
    "                \n",
    "        # Printing the transcription in Romanian.\n",
    "        print(\"You said in Romanian : {}\".format(text_in_romanian))\n",
    "    \n",
    "    except:\n",
    "        \n",
    "        # If recognize_google() can't recognize the audio\n",
    "        print(\"Sorry could not recognize what you said\")"
   ]
  }
 ],
 "metadata": {
  "kernelspec": {
   "display_name": "Python 3",
   "language": "python",
   "name": "python3"
  },
  "language_info": {
   "codemirror_mode": {
    "name": "ipython",
    "version": 3
   },
   "file_extension": ".py",
   "mimetype": "text/x-python",
   "name": "python",
   "nbconvert_exporter": "python",
   "pygments_lexer": "ipython3",
   "version": "3.7.6"
  }
 },
 "nbformat": 4,
 "nbformat_minor": 4
}
